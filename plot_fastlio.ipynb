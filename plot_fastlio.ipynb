{
 "cells": [
  {
   "cell_type": "markdown",
   "id": "3652f25d-2cbf-4891-8220-c5efa80dd9f6",
   "metadata": {},
   "source": [
    "# Plot fast-lio"
   ]
  },
  {
   "cell_type": "code",
   "execution_count": 3,
   "id": "cce1cec8-cdba-4041-bc73-7825b2cfe1b7",
   "metadata": {},
   "outputs": [],
   "source": [
    "import numpy as np\n",
    "import pandas as pd\n",
    "from matplotlib import pyplot as plt"
   ]
  },
  {
   "cell_type": "code",
   "execution_count": 15,
   "id": "e423519c-bc95-446b-a62a-30ead47ff0ea",
   "metadata": {},
   "outputs": [
    {
     "data": {
      "text/html": [
       "<div>\n",
       "<style scoped>\n",
       "    .dataframe tbody tr th:only-of-type {\n",
       "        vertical-align: middle;\n",
       "    }\n",
       "\n",
       "    .dataframe tbody tr th {\n",
       "        vertical-align: top;\n",
       "    }\n",
       "\n",
       "    .dataframe thead th {\n",
       "        text-align: right;\n",
       "    }\n",
       "</style>\n",
       "<table border=\"1\" class=\"dataframe\">\n",
       "  <thead>\n",
       "    <tr style=\"text-align: right;\">\n",
       "      <th></th>\n",
       "      <th>sec</th>\n",
       "      <th>nanosec</th>\n",
       "      <th>x</th>\n",
       "      <th>y</th>\n",
       "      <th>z</th>\n",
       "    </tr>\n",
       "  </thead>\n",
       "  <tbody>\n",
       "    <tr>\n",
       "      <th>0</th>\n",
       "      <td>1695990722</td>\n",
       "      <td>54100275</td>\n",
       "      <td>0.003659</td>\n",
       "      <td>-0.019591</td>\n",
       "      <td>0.000851</td>\n",
       "    </tr>\n",
       "    <tr>\n",
       "      <th>1</th>\n",
       "      <td>1695990722</td>\n",
       "      <td>154200315</td>\n",
       "      <td>0.004906</td>\n",
       "      <td>-0.019100</td>\n",
       "      <td>0.000904</td>\n",
       "    </tr>\n",
       "    <tr>\n",
       "      <th>2</th>\n",
       "      <td>1695990722</td>\n",
       "      <td>254263401</td>\n",
       "      <td>0.003259</td>\n",
       "      <td>-0.020195</td>\n",
       "      <td>0.000954</td>\n",
       "    </tr>\n",
       "    <tr>\n",
       "      <th>3</th>\n",
       "      <td>1695990722</td>\n",
       "      <td>354359150</td>\n",
       "      <td>0.005473</td>\n",
       "      <td>-0.020865</td>\n",
       "      <td>0.000957</td>\n",
       "    </tr>\n",
       "    <tr>\n",
       "      <th>4</th>\n",
       "      <td>1695990722</td>\n",
       "      <td>454457521</td>\n",
       "      <td>0.003704</td>\n",
       "      <td>-0.021702</td>\n",
       "      <td>0.000947</td>\n",
       "    </tr>\n",
       "    <tr>\n",
       "      <th>...</th>\n",
       "      <td>...</td>\n",
       "      <td>...</td>\n",
       "      <td>...</td>\n",
       "      <td>...</td>\n",
       "      <td>...</td>\n",
       "    </tr>\n",
       "    <tr>\n",
       "      <th>3040</th>\n",
       "      <td>1695991026</td>\n",
       "      <td>314336061</td>\n",
       "      <td>114915.221776</td>\n",
       "      <td>1645.529945</td>\n",
       "      <td>-139497.738115</td>\n",
       "    </tr>\n",
       "    <tr>\n",
       "      <th>3041</th>\n",
       "      <td>1695991026</td>\n",
       "      <td>414422035</td>\n",
       "      <td>115040.816703</td>\n",
       "      <td>1672.979096</td>\n",
       "      <td>-139664.618285</td>\n",
       "    </tr>\n",
       "    <tr>\n",
       "      <th>3042</th>\n",
       "      <td>1695991026</td>\n",
       "      <td>514497519</td>\n",
       "      <td>115166.527430</td>\n",
       "      <td>1700.493433</td>\n",
       "      <td>-139831.509704</td>\n",
       "    </tr>\n",
       "    <tr>\n",
       "      <th>3043</th>\n",
       "      <td>1695991026</td>\n",
       "      <td>614599943</td>\n",
       "      <td>115292.408271</td>\n",
       "      <td>1728.075222</td>\n",
       "      <td>-139998.478849</td>\n",
       "    </tr>\n",
       "    <tr>\n",
       "      <th>3044</th>\n",
       "      <td>1695991026</td>\n",
       "      <td>714666128</td>\n",
       "      <td>115418.372958</td>\n",
       "      <td>1755.712501</td>\n",
       "      <td>-140165.417871</td>\n",
       "    </tr>\n",
       "  </tbody>\n",
       "</table>\n",
       "<p>3045 rows × 5 columns</p>\n",
       "</div>"
      ],
      "text/plain": [
       "             sec    nanosec              x            y              z\n",
       "0     1695990722   54100275       0.003659    -0.019591       0.000851\n",
       "1     1695990722  154200315       0.004906    -0.019100       0.000904\n",
       "2     1695990722  254263401       0.003259    -0.020195       0.000954\n",
       "3     1695990722  354359150       0.005473    -0.020865       0.000957\n",
       "4     1695990722  454457521       0.003704    -0.021702       0.000947\n",
       "...          ...        ...            ...          ...            ...\n",
       "3040  1695991026  314336061  114915.221776  1645.529945 -139497.738115\n",
       "3041  1695991026  414422035  115040.816703  1672.979096 -139664.618285\n",
       "3042  1695991026  514497519  115166.527430  1700.493433 -139831.509704\n",
       "3043  1695991026  614599943  115292.408271  1728.075222 -139998.478849\n",
       "3044  1695991026  714666128  115418.372958  1755.712501 -140165.417871\n",
       "\n",
       "[3045 rows x 5 columns]"
      ]
     },
     "execution_count": 15,
     "metadata": {},
     "output_type": "execute_result"
    }
   ],
   "source": [
    "df = pd.read_csv(\"/home/torsten/ms/results/fastlio.csv\")\n",
    "df"
   ]
  },
  {
   "cell_type": "code",
   "execution_count": 16,
   "id": "7039288f-a8b7-4c46-b2be-4a658ae6223d",
   "metadata": {},
   "outputs": [
    {
     "data": {
      "text/plain": [
       "[<matplotlib.lines.Line2D at 0x7f0b959c49d0>]"
      ]
     },
     "execution_count": 16,
     "metadata": {},
     "output_type": "execute_result"
    }
   ],
   "source": [
    "%matplotlib tk\n",
    "\n",
    "plt.figure()\n",
    "plt.axis('equal')\n",
    "plt.grid()\n",
    "plt.plot(df.iloc[:2000, 2].values, df.iloc[:2000, 3], \"-x\")"
   ]
  }
 ],
 "metadata": {
  "kernelspec": {
   "display_name": "Python 3 (ipykernel)",
   "language": "python",
   "name": "python3"
  },
  "language_info": {
   "codemirror_mode": {
    "name": "ipython",
    "version": 3
   },
   "file_extension": ".py",
   "mimetype": "text/x-python",
   "name": "python",
   "nbconvert_exporter": "python",
   "pygments_lexer": "ipython3",
   "version": "3.11.7"
  }
 },
 "nbformat": 4,
 "nbformat_minor": 5
}
