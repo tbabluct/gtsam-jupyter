{
 "cells": [
  {
   "cell_type": "markdown",
   "id": "3f1a7e4a-b358-4165-bc6b-d1ae440967ee",
   "metadata": {},
   "source": [
    "# Plot Viual Odometry"
   ]
  },
  {
   "cell_type": "code",
   "execution_count": 1,
   "id": "6c4d1910-8662-46ee-9d3e-50fa9d2d4f2e",
   "metadata": {},
   "outputs": [],
   "source": [
    "import numpy as np\n",
    "import pandas as pd\n",
    "from matplotlib import pyplot as plt\n",
    "from copy import copy\n",
    "\n",
    "def transform(t_x, t_y, t_z, r_x, r_y, r_z, r_w):\n",
    "    return np.asarray(\n",
    "        [[1-2*r_y**2-2*r_z**2, 2*r_x*r_y-2*r_z*r_w, 2*r_x*r_z+2*r_y*r_w, t_x],\n",
    "         [2*r_x*r_y+2*r_z*r_w, 1-2*r_x**2-2*r_z**2, 2*r_y*r_z-2*r_x*r_w, t_y],\n",
    "         [2*r_x*r_z-2*r_y*r_w, 2*r_y*r_z+2*r_x*r_w, 1-2*r_x**2-2*r_y**2, t_z],\n",
    "         [0,0,0,1]])\n",
    "# https://en.wikipedia.org/wiki/Rotation_matrix#General_rotations"
   ]
  },
  {
   "cell_type": "code",
   "execution_count": 2,
   "id": "44c81def-ae68-456c-a0ac-a04f9e94e3fb",
   "metadata": {},
   "outputs": [
    {
     "data": {
      "text/html": [
       "<div>\n",
       "<style scoped>\n",
       "    .dataframe tbody tr th:only-of-type {\n",
       "        vertical-align: middle;\n",
       "    }\n",
       "\n",
       "    .dataframe tbody tr th {\n",
       "        vertical-align: top;\n",
       "    }\n",
       "\n",
       "    .dataframe thead th {\n",
       "        text-align: right;\n",
       "    }\n",
       "</style>\n",
       "<table border=\"1\" class=\"dataframe\">\n",
       "  <thead>\n",
       "    <tr style=\"text-align: right;\">\n",
       "      <th></th>\n",
       "      <th>sec</th>\n",
       "      <th>nanosec</th>\n",
       "      <th>t_x</th>\n",
       "      <th>t_y</th>\n",
       "      <th>t_z</th>\n",
       "      <th>r_x</th>\n",
       "      <th>r_y</th>\n",
       "      <th>r_z</th>\n",
       "      <th>r_w</th>\n",
       "    </tr>\n",
       "  </thead>\n",
       "  <tbody>\n",
       "    <tr>\n",
       "      <th>0</th>\n",
       "      <td>1689715534</td>\n",
       "      <td>288268504</td>\n",
       "      <td>0.000000</td>\n",
       "      <td>0.000000</td>\n",
       "      <td>0.000000</td>\n",
       "      <td>0.000000</td>\n",
       "      <td>0.000000</td>\n",
       "      <td>0.000000</td>\n",
       "      <td>1.0</td>\n",
       "    </tr>\n",
       "    <tr>\n",
       "      <th>1</th>\n",
       "      <td>1689715534</td>\n",
       "      <td>388132504</td>\n",
       "      <td>0.000124</td>\n",
       "      <td>0.000396</td>\n",
       "      <td>-0.000126</td>\n",
       "      <td>0.000195</td>\n",
       "      <td>0.000020</td>\n",
       "      <td>0.000047</td>\n",
       "      <td>1.0</td>\n",
       "    </tr>\n",
       "    <tr>\n",
       "      <th>2</th>\n",
       "      <td>1689715534</td>\n",
       "      <td>488175504</td>\n",
       "      <td>0.000190</td>\n",
       "      <td>0.000111</td>\n",
       "      <td>-0.000123</td>\n",
       "      <td>0.000083</td>\n",
       "      <td>-0.000051</td>\n",
       "      <td>-0.000018</td>\n",
       "      <td>1.0</td>\n",
       "    </tr>\n",
       "    <tr>\n",
       "      <th>3</th>\n",
       "      <td>1689715534</td>\n",
       "      <td>588150504</td>\n",
       "      <td>-0.000077</td>\n",
       "      <td>-0.000220</td>\n",
       "      <td>0.000158</td>\n",
       "      <td>0.000069</td>\n",
       "      <td>0.000016</td>\n",
       "      <td>0.000033</td>\n",
       "      <td>1.0</td>\n",
       "    </tr>\n",
       "    <tr>\n",
       "      <th>4</th>\n",
       "      <td>1689715534</td>\n",
       "      <td>688233504</td>\n",
       "      <td>-0.000069</td>\n",
       "      <td>-0.000262</td>\n",
       "      <td>0.000273</td>\n",
       "      <td>-0.000057</td>\n",
       "      <td>0.000038</td>\n",
       "      <td>-0.000053</td>\n",
       "      <td>1.0</td>\n",
       "    </tr>\n",
       "    <tr>\n",
       "      <th>...</th>\n",
       "      <td>...</td>\n",
       "      <td>...</td>\n",
       "      <td>...</td>\n",
       "      <td>...</td>\n",
       "      <td>...</td>\n",
       "      <td>...</td>\n",
       "      <td>...</td>\n",
       "      <td>...</td>\n",
       "      <td>...</td>\n",
       "    </tr>\n",
       "    <tr>\n",
       "      <th>7687</th>\n",
       "      <td>1689716302</td>\n",
       "      <td>987276504</td>\n",
       "      <td>0.000176</td>\n",
       "      <td>-0.000198</td>\n",
       "      <td>-0.000057</td>\n",
       "      <td>-0.000059</td>\n",
       "      <td>-0.000074</td>\n",
       "      <td>0.000055</td>\n",
       "      <td>1.0</td>\n",
       "    </tr>\n",
       "    <tr>\n",
       "      <th>7688</th>\n",
       "      <td>1689716303</td>\n",
       "      <td>87286504</td>\n",
       "      <td>0.000220</td>\n",
       "      <td>0.000245</td>\n",
       "      <td>0.000145</td>\n",
       "      <td>0.000088</td>\n",
       "      <td>-0.000030</td>\n",
       "      <td>0.000151</td>\n",
       "      <td>1.0</td>\n",
       "    </tr>\n",
       "    <tr>\n",
       "      <th>7689</th>\n",
       "      <td>1689716303</td>\n",
       "      <td>187281504</td>\n",
       "      <td>-0.000013</td>\n",
       "      <td>0.000146</td>\n",
       "      <td>0.000235</td>\n",
       "      <td>0.000016</td>\n",
       "      <td>0.000011</td>\n",
       "      <td>0.000127</td>\n",
       "      <td>1.0</td>\n",
       "    </tr>\n",
       "    <tr>\n",
       "      <th>7690</th>\n",
       "      <td>1689716303</td>\n",
       "      <td>287307504</td>\n",
       "      <td>-0.000005</td>\n",
       "      <td>-0.000063</td>\n",
       "      <td>0.000141</td>\n",
       "      <td>-0.000072</td>\n",
       "      <td>0.000026</td>\n",
       "      <td>0.000016</td>\n",
       "      <td>1.0</td>\n",
       "    </tr>\n",
       "    <tr>\n",
       "      <th>7691</th>\n",
       "      <td>1689716303</td>\n",
       "      <td>387367504</td>\n",
       "      <td>-0.000298</td>\n",
       "      <td>0.000309</td>\n",
       "      <td>0.000091</td>\n",
       "      <td>0.000116</td>\n",
       "      <td>0.000083</td>\n",
       "      <td>-0.000188</td>\n",
       "      <td>1.0</td>\n",
       "    </tr>\n",
       "  </tbody>\n",
       "</table>\n",
       "<p>7692 rows × 9 columns</p>\n",
       "</div>"
      ],
      "text/plain": [
       "             sec    nanosec       t_x       t_y       t_z       r_x       r_y  \\\n",
       "0     1689715534  288268504  0.000000  0.000000  0.000000  0.000000  0.000000   \n",
       "1     1689715534  388132504  0.000124  0.000396 -0.000126  0.000195  0.000020   \n",
       "2     1689715534  488175504  0.000190  0.000111 -0.000123  0.000083 -0.000051   \n",
       "3     1689715534  588150504 -0.000077 -0.000220  0.000158  0.000069  0.000016   \n",
       "4     1689715534  688233504 -0.000069 -0.000262  0.000273 -0.000057  0.000038   \n",
       "...          ...        ...       ...       ...       ...       ...       ...   \n",
       "7687  1689716302  987276504  0.000176 -0.000198 -0.000057 -0.000059 -0.000074   \n",
       "7688  1689716303   87286504  0.000220  0.000245  0.000145  0.000088 -0.000030   \n",
       "7689  1689716303  187281504 -0.000013  0.000146  0.000235  0.000016  0.000011   \n",
       "7690  1689716303  287307504 -0.000005 -0.000063  0.000141 -0.000072  0.000026   \n",
       "7691  1689716303  387367504 -0.000298  0.000309  0.000091  0.000116  0.000083   \n",
       "\n",
       "           r_z  r_w  \n",
       "0     0.000000  1.0  \n",
       "1     0.000047  1.0  \n",
       "2    -0.000018  1.0  \n",
       "3     0.000033  1.0  \n",
       "4    -0.000053  1.0  \n",
       "...        ...  ...  \n",
       "7687  0.000055  1.0  \n",
       "7688  0.000151  1.0  \n",
       "7689  0.000127  1.0  \n",
       "7690  0.000016  1.0  \n",
       "7691 -0.000188  1.0  \n",
       "\n",
       "[7692 rows x 9 columns]"
      ]
     },
     "execution_count": 2,
     "metadata": {},
     "output_type": "execute_result"
    }
   ],
   "source": [
    "df = pd.read_csv(\"/home/torsten/ms/citrus_data_set/04_13D_Jackal/vo.csv\")\n",
    "df"
   ]
  },
  {
   "cell_type": "code",
   "execution_count": 3,
   "id": "7c93fe8b-7553-4cf8-b8b1-8c0bd8c9d9ec",
   "metadata": {},
   "outputs": [],
   "source": [
    "%matplotlib tk\n",
    "plt.figure()\n",
    "plt.plot(np.diff(df.iloc[:, 0]))\n",
    "plt.show()"
   ]
  },
  {
   "cell_type": "code",
   "execution_count": 4,
   "id": "7a9fb1c9-af76-4f79-915f-6cb63b85d8b2",
   "metadata": {},
   "outputs": [],
   "source": [
    "#df_kf = pd.read_csv(\"/home/torsten/ms/data/rosbag2_2023_11_07-15_41_39/kf.csv\")\n",
    "#df_kf = df_kf.iloc[1:]\n",
    "#df_kf"
   ]
  },
  {
   "cell_type": "code",
   "execution_count": 5,
   "id": "e4935449-80b3-4cca-918a-0d254139e1a2",
   "metadata": {},
   "outputs": [
    {
     "name": "stdout",
     "output_type": "stream",
     "text": [
      "[[ 8.06163984e-01 -3.72702505e-03  5.91680472e-01  9.08510221e+00]\n",
      " [-1.48342915e-01  9.66770041e-01  2.08206833e-01  3.10106569e+00]\n",
      " [-5.72794906e-01 -2.55620443e-01  7.78822311e-01  1.30734272e+00]\n",
      " [ 0.00000000e+00  0.00000000e+00  0.00000000e+00  1.00000000e+00]]\n"
     ]
    }
   ],
   "source": [
    "poses = []\n",
    "poses_kf = []\n",
    "last_tf = transform(0,0,0,0,0,0,1)\n",
    "\n",
    "vo_T_robot = np.asarray([[ 1,  0, 0, 0],\n",
    "                         [ 0,  1, 0, 0],\n",
    "                         [ 0,  0, 1, 0],\n",
    "                         [ 0,  0, 0, 1]], dtype=float)\n",
    "\n",
    "vTr_inv = np.linalg.inv(vo_T_robot)\n",
    "\n",
    "\n",
    "for i, row in df.iterrows():\n",
    "    tf = transform(row[\"t_x\"], row[\"t_y\"], row[\"t_z\"], row[\"r_x\"], row[\"r_y\"], row[\"r_z\"], row[\"r_w\"])\n",
    "    # Convert to robot frame\n",
    "    tf = np.matmul(vo_T_robot, tf)\n",
    "    tf = np.matmul(tf, vTr_inv)\n",
    "    last_tf = np.matmul(last_tf, tf)\n",
    "    poses.append(copy(last_tf))\n",
    "\"\"\"\n",
    "# Get transform of first keyframe\n",
    "for index, row in df.iterrows():\n",
    "    if row[\"timestamp\"] >= df_kf.iloc[0, 0]:\n",
    "        print(row[\"timestamp\"])\n",
    "        print(df_kf.iloc[0, 0])\n",
    "        last_tf = poses[index]\n",
    "        print(index)\n",
    "        print(last_tf)\n",
    "        break\n",
    "\n",
    "#last_tf = transform(0,0,0,0,0,0,1)\n",
    "for i, row in df_kf.iloc[1:].iterrows():\n",
    "    tf = transform(row[\"t_x\"], row[\"t_y\"], row[\"t_z\"], row[\"r_x\"], row[\"r_y\"], row[\"r_z\"], row[\"r_w\"])\n",
    "    # Convert to robot frame\n",
    "    tf = np.matmul(vo_T_robot, tf)\n",
    "    tf = np.matmul(tf, vTr_inv)\n",
    "    last_tf = np.matmul(last_tf, tf)\n",
    "    poses_kf.append(copy(last_tf))\n",
    "\"\"\"\n",
    "\n",
    "    \n",
    "print(last_tf)\n",
    "\n",
    "\n",
    "    "
   ]
  },
  {
   "cell_type": "code",
   "execution_count": 6,
   "id": "bc7f9291-b42a-428e-acc4-1f1d156b852e",
   "metadata": {},
   "outputs": [
    {
     "data": {
      "text/plain": [
       "'\\nposes.append(transform(0,0,0,0,0,0,1))\\n\\nfor i in range(3):\\n    tf =transform(0.2,0,0,0,0.707,0,0.707)\\n    last_tf = np.matmul(tf, last_tf)\\n    poses.append(copy(last_tf))\\n\\n#poses.append(transform(2,0,0,0,0,0,1))\\n#poses.append(transform(3,0,0,0,0,0,1))\\n'"
      ]
     },
     "execution_count": 6,
     "metadata": {},
     "output_type": "execute_result"
    }
   ],
   "source": [
    "\"\"\"\n",
    "poses.append(transform(0,0,0,0,0,0,1))\n",
    "\n",
    "for i in range(3):\n",
    "    tf =transform(0.2,0,0,0,0.707,0,0.707)\n",
    "    last_tf = np.matmul(tf, last_tf)\n",
    "    poses.append(copy(last_tf))\n",
    "\n",
    "#poses.append(transform(2,0,0,0,0,0,1))\n",
    "#poses.append(transform(3,0,0,0,0,0,1))\n",
    "\"\"\"\n"
   ]
  },
  {
   "cell_type": "code",
   "execution_count": 7,
   "id": "e7f4162d-a572-4e88-9fad-91414b4451d4",
   "metadata": {},
   "outputs": [
    {
     "data": {
      "text/plain": [
       "(7692, 4, 4)"
      ]
     },
     "execution_count": 7,
     "metadata": {},
     "output_type": "execute_result"
    }
   ],
   "source": [
    "poses = np.asarray(poses)\n",
    "poses.shape"
   ]
  },
  {
   "cell_type": "code",
   "execution_count": 8,
   "id": "d92fbb54-f613-4eea-9f3e-a3b6915c0c4c",
   "metadata": {},
   "outputs": [
    {
     "data": {
      "text/plain": [
       "(0,)"
      ]
     },
     "execution_count": 8,
     "metadata": {},
     "output_type": "execute_result"
    }
   ],
   "source": [
    "poses_kf = np.asarray(poses_kf)\n",
    "poses_kf.shape"
   ]
  },
  {
   "cell_type": "code",
   "execution_count": 9,
   "id": "684fdd9f-875f-4853-993d-194d1c29c3d6",
   "metadata": {},
   "outputs": [],
   "source": [
    "#\"\"\"\n",
    "%matplotlib tk\n",
    "plt.figure(figsize=(10,6))\n",
    "plt.axis('equal')\n",
    "plt.plot(poses[:, 0, 3], poses[:,2,3], \"-x\")\n",
    "#plt.plot(poses_kf[:, 0, 3], poses_kf[:,1,3], \"-x\")\n",
    "for i in range(0, poses.shape[0], 100):\n",
    "    plt.text(poses[i,0,3], poses[i,2,3], str(i))\n",
    "plt.show()\n",
    "#\"\"\""
   ]
  },
  {
   "cell_type": "code",
   "execution_count": 10,
   "id": "75575d87-2a82-4003-a522-3bd984dc4a0b",
   "metadata": {},
   "outputs": [],
   "source": [
    "#df = pd.read_csv(\"gpsNED.csv\")\n",
    "#df"
   ]
  },
  {
   "cell_type": "code",
   "execution_count": 11,
   "id": "46ee9ce1-9730-49aa-981d-90f145902ed6",
   "metadata": {},
   "outputs": [],
   "source": [
    "%matplotlib tk\n",
    "plt.figure(figsize=(18,10))\n",
    "plt.axis('equal')\n",
    "plt.grid()\n",
    "plt.title(\"Visual Odometry\")\n",
    "plt.scatter(df.iloc[:,3], -1*df.iloc[:,1])\n",
    "plt.show()\n"
   ]
  },
  {
   "cell_type": "code",
   "execution_count": null,
   "id": "ccfce1c6-4831-4984-9409-abca3ee60ff8",
   "metadata": {},
   "outputs": [],
   "source": []
  },
  {
   "cell_type": "code",
   "execution_count": null,
   "id": "c8396c27-eb5b-47e6-b1d4-5029e737e85f",
   "metadata": {},
   "outputs": [],
   "source": []
  },
  {
   "cell_type": "code",
   "execution_count": null,
   "id": "ab90d592-be4c-463d-98d2-e227f3d9e3af",
   "metadata": {},
   "outputs": [],
   "source": []
  }
 ],
 "metadata": {
  "kernelspec": {
   "display_name": "Python 3 (ipykernel)",
   "language": "python",
   "name": "python3"
  },
  "language_info": {
   "codemirror_mode": {
    "name": "ipython",
    "version": 3
   },
   "file_extension": ".py",
   "mimetype": "text/x-python",
   "name": "python",
   "nbconvert_exporter": "python",
   "pygments_lexer": "ipython3",
   "version": "3.13.1"
  }
 },
 "nbformat": 4,
 "nbformat_minor": 5
}
