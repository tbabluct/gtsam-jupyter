{
 "cells": [
  {
   "cell_type": "markdown",
   "id": "3f1a7e4a-b358-4165-bc6b-d1ae440967ee",
   "metadata": {},
   "source": [
    "# Plot Viual Odometry"
   ]
  },
  {
   "cell_type": "code",
   "execution_count": 1,
   "id": "6c4d1910-8662-46ee-9d3e-50fa9d2d4f2e",
   "metadata": {},
   "outputs": [],
   "source": [
    "import numpy as np\n",
    "import pandas as pd\n",
    "from matplotlib import pyplot as plt\n",
    "from copy import copy\n",
    "\n",
    "def transform(t_x, t_y, t_z, r_x, r_y, r_z, r_w):\n",
    "    return np.asarray(\n",
    "        [[1-2*r_y**2-2*r_z**2, 2*r_x*r_y-2*r_z*r_w, 2*r_x*r_z+2*r_y*r_w, t_x],\n",
    "         [2*r_x*r_y+2*r_z*r_w, 1-2*r_x**2-2*r_z**2, 2*r_y*r_z-2*r_x*r_w, t_y],\n",
    "         [2*r_x*r_z-2*r_y*r_w, 2*r_y*r_z+2*r_x*r_w, 1-2*r_x**2-2*r_y**2, t_z],\n",
    "         [0,0,0,1]])\n",
    "# https://en.wikipedia.org/wiki/Rotation_matrix#General_rotations"
   ]
  },
  {
   "cell_type": "code",
   "execution_count": 2,
   "id": "44c81def-ae68-456c-a0ac-a04f9e94e3fb",
   "metadata": {},
   "outputs": [
    {
     "data": {
      "text/html": [
       "<div>\n",
       "<style scoped>\n",
       "    .dataframe tbody tr th:only-of-type {\n",
       "        vertical-align: middle;\n",
       "    }\n",
       "\n",
       "    .dataframe tbody tr th {\n",
       "        vertical-align: top;\n",
       "    }\n",
       "\n",
       "    .dataframe thead th {\n",
       "        text-align: right;\n",
       "    }\n",
       "</style>\n",
       "<table border=\"1\" class=\"dataframe\">\n",
       "  <thead>\n",
       "    <tr style=\"text-align: right;\">\n",
       "      <th></th>\n",
       "      <th>timestamp</th>\n",
       "      <th>t_x</th>\n",
       "      <th>t_y</th>\n",
       "      <th>t_z</th>\n",
       "      <th>r_x</th>\n",
       "      <th>r_y</th>\n",
       "      <th>r_z</th>\n",
       "      <th>r_w</th>\n",
       "    </tr>\n",
       "  </thead>\n",
       "  <tbody>\n",
       "    <tr>\n",
       "      <th>0</th>\n",
       "      <td>1704451644772</td>\n",
       "      <td>0.000000</td>\n",
       "      <td>0.000000</td>\n",
       "      <td>0.000000</td>\n",
       "      <td>0.000000</td>\n",
       "      <td>0.000000</td>\n",
       "      <td>0.000000</td>\n",
       "      <td>1.000000</td>\n",
       "    </tr>\n",
       "    <tr>\n",
       "      <th>1</th>\n",
       "      <td>1704451644839</td>\n",
       "      <td>-0.000363</td>\n",
       "      <td>-0.000156</td>\n",
       "      <td>-0.000661</td>\n",
       "      <td>0.000014</td>\n",
       "      <td>0.000147</td>\n",
       "      <td>-0.000370</td>\n",
       "      <td>1.000000</td>\n",
       "    </tr>\n",
       "    <tr>\n",
       "      <th>2</th>\n",
       "      <td>1704451644905</td>\n",
       "      <td>-0.000375</td>\n",
       "      <td>-0.000179</td>\n",
       "      <td>-0.000686</td>\n",
       "      <td>0.000012</td>\n",
       "      <td>0.000148</td>\n",
       "      <td>-0.000360</td>\n",
       "      <td>1.000000</td>\n",
       "    </tr>\n",
       "    <tr>\n",
       "      <th>3</th>\n",
       "      <td>1704451644972</td>\n",
       "      <td>-0.000443</td>\n",
       "      <td>0.001768</td>\n",
       "      <td>0.002395</td>\n",
       "      <td>0.000074</td>\n",
       "      <td>0.000204</td>\n",
       "      <td>-0.000577</td>\n",
       "      <td>1.000000</td>\n",
       "    </tr>\n",
       "    <tr>\n",
       "      <th>4</th>\n",
       "      <td>1704451645039</td>\n",
       "      <td>-0.001127</td>\n",
       "      <td>0.002873</td>\n",
       "      <td>0.004099</td>\n",
       "      <td>0.000063</td>\n",
       "      <td>0.000011</td>\n",
       "      <td>-0.000937</td>\n",
       "      <td>1.000000</td>\n",
       "    </tr>\n",
       "    <tr>\n",
       "      <th>...</th>\n",
       "      <td>...</td>\n",
       "      <td>...</td>\n",
       "      <td>...</td>\n",
       "      <td>...</td>\n",
       "      <td>...</td>\n",
       "      <td>...</td>\n",
       "      <td>...</td>\n",
       "      <td>...</td>\n",
       "    </tr>\n",
       "    <tr>\n",
       "      <th>7576</th>\n",
       "      <td>1704452275407</td>\n",
       "      <td>-194.485081</td>\n",
       "      <td>-2.420731</td>\n",
       "      <td>10.238093</td>\n",
       "      <td>0.050732</td>\n",
       "      <td>0.707770</td>\n",
       "      <td>0.291702</td>\n",
       "      <td>0.641403</td>\n",
       "    </tr>\n",
       "    <tr>\n",
       "      <th>7577</th>\n",
       "      <td>1704452275877</td>\n",
       "      <td>-194.484930</td>\n",
       "      <td>-2.419681</td>\n",
       "      <td>10.238637</td>\n",
       "      <td>0.050834</td>\n",
       "      <td>0.707766</td>\n",
       "      <td>0.291461</td>\n",
       "      <td>0.641509</td>\n",
       "    </tr>\n",
       "    <tr>\n",
       "      <th>7578</th>\n",
       "      <td>1704452276007</td>\n",
       "      <td>-194.485787</td>\n",
       "      <td>-2.419707</td>\n",
       "      <td>10.238919</td>\n",
       "      <td>0.050766</td>\n",
       "      <td>0.707768</td>\n",
       "      <td>0.291299</td>\n",
       "      <td>0.641585</td>\n",
       "    </tr>\n",
       "    <tr>\n",
       "      <th>7579</th>\n",
       "      <td>1704452276874</td>\n",
       "      <td>-194.485495</td>\n",
       "      <td>-2.419526</td>\n",
       "      <td>10.239060</td>\n",
       "      <td>0.050693</td>\n",
       "      <td>0.707756</td>\n",
       "      <td>0.291392</td>\n",
       "      <td>0.641563</td>\n",
       "    </tr>\n",
       "    <tr>\n",
       "      <th>7580</th>\n",
       "      <td>1704452277007</td>\n",
       "      <td>-194.485400</td>\n",
       "      <td>-2.419512</td>\n",
       "      <td>10.239104</td>\n",
       "      <td>0.050598</td>\n",
       "      <td>0.707742</td>\n",
       "      <td>0.291407</td>\n",
       "      <td>0.641578</td>\n",
       "    </tr>\n",
       "  </tbody>\n",
       "</table>\n",
       "<p>7581 rows × 8 columns</p>\n",
       "</div>"
      ],
      "text/plain": [
       "          timestamp         t_x       t_y        t_z       r_x       r_y  \\\n",
       "0     1704451644772    0.000000  0.000000   0.000000  0.000000  0.000000   \n",
       "1     1704451644839   -0.000363 -0.000156  -0.000661  0.000014  0.000147   \n",
       "2     1704451644905   -0.000375 -0.000179  -0.000686  0.000012  0.000148   \n",
       "3     1704451644972   -0.000443  0.001768   0.002395  0.000074  0.000204   \n",
       "4     1704451645039   -0.001127  0.002873   0.004099  0.000063  0.000011   \n",
       "...             ...         ...       ...        ...       ...       ...   \n",
       "7576  1704452275407 -194.485081 -2.420731  10.238093  0.050732  0.707770   \n",
       "7577  1704452275877 -194.484930 -2.419681  10.238637  0.050834  0.707766   \n",
       "7578  1704452276007 -194.485787 -2.419707  10.238919  0.050766  0.707768   \n",
       "7579  1704452276874 -194.485495 -2.419526  10.239060  0.050693  0.707756   \n",
       "7580  1704452277007 -194.485400 -2.419512  10.239104  0.050598  0.707742   \n",
       "\n",
       "           r_z       r_w  \n",
       "0     0.000000  1.000000  \n",
       "1    -0.000370  1.000000  \n",
       "2    -0.000360  1.000000  \n",
       "3    -0.000577  1.000000  \n",
       "4    -0.000937  1.000000  \n",
       "...        ...       ...  \n",
       "7576  0.291702  0.641403  \n",
       "7577  0.291461  0.641509  \n",
       "7578  0.291299  0.641585  \n",
       "7579  0.291392  0.641563  \n",
       "7580  0.291407  0.641578  \n",
       "\n",
       "[7581 rows x 8 columns]"
      ]
     },
     "execution_count": 2,
     "metadata": {},
     "output_type": "execute_result"
    }
   ],
   "source": [
    "df = pd.read_csv(\"/home/torsten/ms/data/rosbag2_2024_01_05-12_47_24/vo_pose.csv\")\n",
    "df"
   ]
  },
  {
   "cell_type": "code",
   "execution_count": 3,
   "id": "7a9fb1c9-af76-4f79-915f-6cb63b85d8b2",
   "metadata": {},
   "outputs": [],
   "source": [
    "#df_kf = pd.read_csv(\"/home/torsten/ms/data/rosbag2_2023_11_07-15_41_39/kf.csv\")\n",
    "#df_kf = df_kf.iloc[1:]\n",
    "#df_kf"
   ]
  },
  {
   "cell_type": "code",
   "execution_count": 4,
   "id": "e4935449-80b3-4cca-918a-0d254139e1a2",
   "metadata": {},
   "outputs": [
    {
     "name": "stdout",
     "output_type": "stream",
     "text": [
      "[[1 0 0 0]\n",
      " [0 1 0 0]\n",
      " [0 0 1 0]\n",
      " [0 0 0 1]]\n"
     ]
    }
   ],
   "source": [
    "poses = []\n",
    "poses_kf = []\n",
    "last_tf = transform(0,0,0,0,0,0,1)\n",
    "\n",
    "vo_T_robot = np.asarray([[ 0,  0, 1, 0],\n",
    "                         [-1,  0, 0, 0],\n",
    "                         [ 0, -1, 0, 0],\n",
    "                         [ 0,  0, 0, 1]], dtype=float)\n",
    "\n",
    "vTr_inv = np.linalg.inv(vo_T_robot)\n",
    "\n",
    "\"\"\"\n",
    "for i, row in df.iterrows():\n",
    "    tf = transform(row[\"t_x\"], row[\"t_y\"], row[\"t_z\"], row[\"r_x\"], row[\"r_y\"], row[\"r_z\"], row[\"r_w\"])\n",
    "    # Convert to robot frame\n",
    "    tf = np.matmul(vo_T_robot, tf)\n",
    "    tf = np.matmul(tf, vTr_inv)\n",
    "    last_tf = np.matmul(last_tf, tf)\n",
    "    poses.append(copy(last_tf))\n",
    "\n",
    "# Get transform of first keyframe\n",
    "for index, row in df.iterrows():\n",
    "    if row[\"timestamp\"] >= df_kf.iloc[0, 0]:\n",
    "        print(row[\"timestamp\"])\n",
    "        print(df_kf.iloc[0, 0])\n",
    "        last_tf = poses[index]\n",
    "        print(index)\n",
    "        print(last_tf)\n",
    "        break\n",
    "\n",
    "#last_tf = transform(0,0,0,0,0,0,1)\n",
    "for i, row in df_kf.iloc[1:].iterrows():\n",
    "    tf = transform(row[\"t_x\"], row[\"t_y\"], row[\"t_z\"], row[\"r_x\"], row[\"r_y\"], row[\"r_z\"], row[\"r_w\"])\n",
    "    # Convert to robot frame\n",
    "    tf = np.matmul(vo_T_robot, tf)\n",
    "    tf = np.matmul(tf, vTr_inv)\n",
    "    last_tf = np.matmul(last_tf, tf)\n",
    "    poses_kf.append(copy(last_tf))\n",
    "\"\"\"\n",
    "\n",
    "    \n",
    "print(last_tf)\n",
    "\n",
    "\n",
    "    "
   ]
  },
  {
   "cell_type": "code",
   "execution_count": 5,
   "id": "bc7f9291-b42a-428e-acc4-1f1d156b852e",
   "metadata": {},
   "outputs": [
    {
     "data": {
      "text/plain": [
       "'\\nposes.append(transform(0,0,0,0,0,0,1))\\n\\nfor i in range(3):\\n    tf =transform(0.2,0,0,0,0.707,0,0.707)\\n    last_tf = np.matmul(tf, last_tf)\\n    poses.append(copy(last_tf))\\n\\n#poses.append(transform(2,0,0,0,0,0,1))\\n#poses.append(transform(3,0,0,0,0,0,1))\\n'"
      ]
     },
     "execution_count": 5,
     "metadata": {},
     "output_type": "execute_result"
    }
   ],
   "source": [
    "\"\"\"\n",
    "poses.append(transform(0,0,0,0,0,0,1))\n",
    "\n",
    "for i in range(3):\n",
    "    tf =transform(0.2,0,0,0,0.707,0,0.707)\n",
    "    last_tf = np.matmul(tf, last_tf)\n",
    "    poses.append(copy(last_tf))\n",
    "\n",
    "#poses.append(transform(2,0,0,0,0,0,1))\n",
    "#poses.append(transform(3,0,0,0,0,0,1))\n",
    "\"\"\"\n"
   ]
  },
  {
   "cell_type": "code",
   "execution_count": 6,
   "id": "e7f4162d-a572-4e88-9fad-91414b4451d4",
   "metadata": {},
   "outputs": [
    {
     "data": {
      "text/plain": [
       "(0,)"
      ]
     },
     "execution_count": 6,
     "metadata": {},
     "output_type": "execute_result"
    }
   ],
   "source": [
    "poses = np.asarray(poses)\n",
    "poses.shape"
   ]
  },
  {
   "cell_type": "code",
   "execution_count": 7,
   "id": "d92fbb54-f613-4eea-9f3e-a3b6915c0c4c",
   "metadata": {},
   "outputs": [
    {
     "data": {
      "text/plain": [
       "(0,)"
      ]
     },
     "execution_count": 7,
     "metadata": {},
     "output_type": "execute_result"
    }
   ],
   "source": [
    "poses_kf = np.asarray(poses_kf)\n",
    "poses_kf.shape"
   ]
  },
  {
   "cell_type": "code",
   "execution_count": 8,
   "id": "684fdd9f-875f-4853-993d-194d1c29c3d6",
   "metadata": {},
   "outputs": [
    {
     "data": {
      "text/plain": [
       "'\\n%matplotlib tk\\nplt.figure(figsize=(10,6))\\nplt.axis(\\'equal\\')\\nplt.plot(poses[:, 0, 3], poses[:,1,3], \"-x\")\\n#plt.plot(poses_kf[:, 0, 3], poses_kf[:,1,3], \"-x\")\\nfor i in range(0, poses.shape[0], 100):\\n    plt.text(poses[i,0,3], poses[i,1,3], str(i))\\nplt.show()\\n'"
      ]
     },
     "execution_count": 8,
     "metadata": {},
     "output_type": "execute_result"
    }
   ],
   "source": [
    "\"\"\"\n",
    "%matplotlib tk\n",
    "plt.figure(figsize=(10,6))\n",
    "plt.axis('equal')\n",
    "plt.plot(poses[:, 0, 3], poses[:,1,3], \"-x\")\n",
    "#plt.plot(poses_kf[:, 0, 3], poses_kf[:,1,3], \"-x\")\n",
    "for i in range(0, poses.shape[0], 100):\n",
    "    plt.text(poses[i,0,3], poses[i,1,3], str(i))\n",
    "plt.show()\n",
    "\"\"\""
   ]
  },
  {
   "cell_type": "code",
   "execution_count": 9,
   "id": "75575d87-2a82-4003-a522-3bd984dc4a0b",
   "metadata": {},
   "outputs": [],
   "source": [
    "#df = pd.read_csv(\"gpsNED.csv\")\n",
    "#df"
   ]
  },
  {
   "cell_type": "code",
   "execution_count": 10,
   "id": "46ee9ce1-9730-49aa-981d-90f145902ed6",
   "metadata": {},
   "outputs": [
    {
     "data": {
      "image/png": "[encoded data removed]",
      "text/plain": [
       "<Figure size 1800x1000 with 1 Axes>"
      ]
     },
     "metadata": {},
     "output_type": "display_data"
    }
   ],
   "source": [
    "\n",
    "plt.figure(figsize=(18,10))\n",
    "plt.scatter(df.iloc[:,1], df.iloc[:,3])\n",
    "plt.show()\n"
   ]
  },
  {
   "cell_type": "code",
   "execution_count": null,
   "id": "ccfce1c6-4831-4984-9409-abca3ee60ff8",
   "metadata": {},
   "outputs": [],
   "source": []
  },
  {
   "cell_type": "code",
   "execution_count": null,
   "id": "c8396c27-eb5b-47e6-b1d4-5029e737e85f",
   "metadata": {},
   "outputs": [],
   "source": []
  },
  {
   "cell_type": "code",
   "execution_count": null,
   "id": "ab90d592-be4c-463d-98d2-e227f3d9e3af",
   "metadata": {},
   "outputs": [],
   "source": []
  }
 ],
 "metadata": {
  "kernelspec": {
   "display_name": "Python 3 (ipykernel)",
   "language": "python",
   "name": "python3"
  },
  "language_info": {
   "codemirror_mode": {
    "name": "ipython",
    "version": 3
   },
   "file_extension": ".py",
   "mimetype": "text/x-python",
   "name": "python",
   "nbconvert_exporter": "python",
   "pygments_lexer": "ipython3",
   "version": "3.11.7"
  }
 },
 "nbformat": 4,
 "nbformat_minor": 5
}
