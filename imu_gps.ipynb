{
 "cells": [
  {
   "cell_type": "markdown",
   "metadata": {},
   "source": [
    "# GTSAM Pre integrated IMU and GPS"
   ]
  },
  {
   "cell_type": "code",
   "execution_count": 1,
   "metadata": {},
   "outputs": [],
   "source": [
    "import gtsam\n",
    "import numpy as np\n",
    "import csv"
   ]
  },
  {
   "cell_type": "code",
   "execution_count": 2,
   "metadata": {},
   "outputs": [],
   "source": [
    "IMU_CSV_FILENAME = \"../data/imu.csv\""
   ]
  },
  {
   "cell_type": "code",
   "execution_count": 3,
   "metadata": {},
   "outputs": [],
   "source": [
    "class ImuPreintMeasmt:\n",
    "    def __init__(self):\n",
    "        self.acc = None\n",
    "        self.omega = None\n",
    "        self.dt = None\n"
   ]
  },
  {
   "cell_type": "code",
   "execution_count": 4,
   "metadata": {},
   "outputs": [],
   "source": [
    "def defaultParams(g: float):\n",
    "    \"\"\"Create default parameters with Z *up* and realistic noise parameters\"\"\"\n",
    "    params = gtsam.PreintegrationParams.MakeSharedU(g)\n",
    "    kGyroSigma = np.radians(0.5) / 60  # 0.5 degree ARW\n",
    "    kAccelSigma = 0.1 / 60  # 10 cm VRW\n",
    "    params.setGyroscopeCovariance(kGyroSigma**2 * np.identity(3, float))\n",
    "    params.setAccelerometerCovariance(kAccelSigma**2 *\n",
    "                                        np.identity(3, float))\n",
    "    params.setIntegrationCovariance(0.0000001**2 * np.identity(3, float))\n",
    "    return params"
   ]
  },
  {
   "cell_type": "code",
   "execution_count": 5,
   "metadata": {},
   "outputs": [],
   "source": [
    "pi_params = defaultParams(g=9.8)\n",
    "pim = gtsam.PreintegratedImuMeasurements(pi_params)"
   ]
  },
  {
   "cell_type": "code",
   "execution_count": 7,
   "metadata": {},
   "outputs": [],
   "source": [
    "with open(IMU_CSV_FILENAME) as f:\n",
    "    reader = csv.DictReader(f)\n",
    "    for row in reader:\n",
    "        acc = np.asarray([row[\"la_x\"], row[\"la_y\"], row[\"la_z\"]], dtype=float)\n",
    "        omega = np.asarray([row[\"av_x\"], row[\"av_y\"], row[\"av_z\"]], dtype=float)\n",
    "        pim.integrateMeasurement(acc, omega, deltaT=1/400)"
   ]
  },
  {
   "cell_type": "code",
   "execution_count": 15,
   "metadata": {},
   "outputs": [
    {
     "ename": "TypeError",
     "evalue": "predict(): incompatible function arguments. The following argument types are supported:\n    1. (self: gtsam.gtsam.PreintegratedImuMeasurements, state_i: gtsam.gtsam.NavState, bias: gtsam.gtsam.imuBias.ConstantBias) -> gtsam.gtsam.NavState\n\nInvoked with:     deltaTij = 2034.88\n    deltaRij.ypr = ( 0.330929  0.499988 -0.173104)\n    deltaPij =  194953 -226181  135515\n    deltaVij =  168.803 -220.047  104.772\n    gyrobias = 0 0 0\n    acc_bias = 0 0 0\n\n    preintMeasCov \n[-nan -nan -nan -nan -nan -nan -nan -nan -nan\n-nan -nan -nan -nan -nan -nan -nan -nan -nan\n-nan -nan -nan -nan -nan -nan -nan -nan -nan\n-nan -nan -nan -nan -nan -nan -nan -nan -nan\n-nan -nan -nan -nan -nan -nan -nan -nan -nan\n-nan -nan -nan -nan -nan -nan -nan -nan -nan\n-nan -nan -nan -nan -nan -nan -nan -nan -nan\n-nan -nan -nan -nan -nan -nan -nan -nan -nan\n-nan -nan -nan -nan -nan -nan -nan -nan -nan]\n",
     "output_type": "error",
     "traceback": [
      "\u001b[0;31m---------------------------------------------------------------------------\u001b[0m",
      "\u001b[0;31mTypeError\u001b[0m                                 Traceback (most recent call last)",
      "\u001b[1;32m/home/torsten/ms/gtsam-jupyter/imu_gps.ipynb Cell 8\u001b[0m in \u001b[0;36m<cell line: 1>\u001b[0;34m()\u001b[0m\n\u001b[0;32m----> <a href='vscode-notebook-cell:/home/torsten/ms/gtsam-jupyter/imu_gps.ipynb#X10sZmlsZQ%3D%3D?line=0'>1</a>\u001b[0m pim\u001b[39m.\u001b[39;49mpredict()\n",
      "\u001b[0;31mTypeError\u001b[0m: predict(): incompatible function arguments. The following argument types are supported:\n    1. (self: gtsam.gtsam.PreintegratedImuMeasurements, state_i: gtsam.gtsam.NavState, bias: gtsam.gtsam.imuBias.ConstantBias) -> gtsam.gtsam.NavState\n\nInvoked with:     deltaTij = 2034.88\n    deltaRij.ypr = ( 0.330929  0.499988 -0.173104)\n    deltaPij =  194953 -226181  135515\n    deltaVij =  168.803 -220.047  104.772\n    gyrobias = 0 0 0\n    acc_bias = 0 0 0\n\n    preintMeasCov \n[-nan -nan -nan -nan -nan -nan -nan -nan -nan\n-nan -nan -nan -nan -nan -nan -nan -nan -nan\n-nan -nan -nan -nan -nan -nan -nan -nan -nan\n-nan -nan -nan -nan -nan -nan -nan -nan -nan\n-nan -nan -nan -nan -nan -nan -nan -nan -nan\n-nan -nan -nan -nan -nan -nan -nan -nan -nan\n-nan -nan -nan -nan -nan -nan -nan -nan -nan\n-nan -nan -nan -nan -nan -nan -nan -nan -nan\n-nan -nan -nan -nan -nan -nan -nan -nan -nan]\n"
     ]
    }
   ],
   "source": [
    "pim.predict()"
   ]
  }
 ],
 "metadata": {
  "kernelspec": {
   "display_name": "Python 3 (ipykernel)",
   "language": "python",
   "name": "python3"
  },
  "language_info": {
   "codemirror_mode": {
    "name": "ipython",
    "version": 3
   },
   "file_extension": ".py",
   "mimetype": "text/x-python",
   "name": "python",
   "nbconvert_exporter": "python",
   "pygments_lexer": "ipython3",
   "version": "3.11.3"
  },
  "vscode": {
   "interpreter": {
    "hash": "e7370f93d1d0cde622a1f8e1c04877d8463912d04d973331ad4851f04de6915a"
   }
  }
 },
 "nbformat": 4,
 "nbformat_minor": 4
}
